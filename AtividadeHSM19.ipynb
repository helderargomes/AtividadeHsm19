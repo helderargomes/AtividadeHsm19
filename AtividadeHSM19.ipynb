{
  "nbformat": 4,
  "nbformat_minor": 0,
  "metadata": {
    "colab": {
      "provenance": [],
      "collapsed_sections": []
    },
    "kernelspec": {
      "name": "python3",
      "display_name": "Python 3"
    },
    "language_info": {
      "name": "python"
    }
  },
  "cells": [
    {
      "cell_type": "code",
      "execution_count": 1,
      "metadata": {
        "id": "BXCALv0CBlpM"
      },
      "outputs": [],
      "source": [
        "# Importando as bibliotecas \n",
        "import numpy as np\n",
        "import pandas as pd\n",
        "import matplotlib.pyplot as plt\n",
        "import seaborn as sns\n",
        "import plotly.express as px"
      ]
    },
    {
      "cell_type": "code",
      "source": [
        "# Importando a base de dados sobre o pagamento do abono permanência no governo federal em julho/2022. Aqui houve um erro sobre o UTF-8, mas consegui resolver mudando o \"encoding\", conforme sugerido no StackOverFlow.\n",
        "db = pd.read_csv('ABONOP_072022.csv', sep=';', encoding='latin-1')"
      ],
      "metadata": {
        "id": "OHurNtthBqF3"
      },
      "execution_count": 27,
      "outputs": []
    },
    {
      "cell_type": "code",
      "source": [
        "# Verificando o cabeçalho do arquivo\n",
        "db.head()"
      ],
      "metadata": {
        "id": "-ExwND89Cbwn"
      },
      "execution_count": null,
      "outputs": []
    },
    {
      "cell_type": "code",
      "source": [
        "# Avaliando o tamanho do arquivo\n",
        "db.shape"
      ],
      "metadata": {
        "id": "kKnTEISNCz54"
      },
      "execution_count": null,
      "outputs": []
    },
    {
      "cell_type": "code",
      "source": [
        "# Avaliando os tipos de dados do dataframe\n",
        "db.dtypes"
      ],
      "metadata": {
        "id": "VExiQVILC45e"
      },
      "execution_count": null,
      "outputs": []
    },
    {
      "cell_type": "code",
      "source": [
        "# Verificando o número de servidores com abono permanência por UF.\n",
        "db[\"UF da UPAG de vinculação\"].value_counts(ascending=True).plot.barh()\n",
        "# Pela análise do gráfico, é possível observar que os estados do Rio de Janeiro e do Distrito Federal concentram a maior proporção de servidores com abon o permanência. Este resultado pode ser explicado pelo fato de as duas cidades concentrarem uma proporção elevada de servidores federais, uma vez que o Rio de Janeiro era a capital federal até a metade do século passado, quando a capital foi transferida para Brasília."
      ],
      "metadata": {
        "id": "gLzJk8aVFf-s"
      },
      "execution_count": null,
      "outputs": []
    },
    {
      "cell_type": "code",
      "source": [
        "#Verificando o número de servidores com abono permanência por escolaridade\n",
        "db[\"Nível de Escolaridade\"].value_counts(ascending=True).plot.bar()\n",
        "# É possível concluir que os servidores que apresentam nível de escolaridade completo, principalmente médio e superior, são o maior grupo de servidores com abono permanência."
      ],
      "metadata": {
        "id": "KOpLcU3CLIXd"
      },
      "execution_count": null,
      "outputs": []
    },
    {
      "cell_type": "code",
      "source": [
        "# Para realizar algumas análises de correlação, o valor do abono permanência foi convertido para o tipo float. Aqui temos um problema para esta conversão, pois como a tabela é de dados brasileiros, o símbolo de decimal é a vírgula. Vou tentar usar a função replace para trocar todas as vírgulas por ponto.\n",
        "db[\"Val\"] = db[\"Val\"].str.replace(',','.')"
      ],
      "metadata": {
        "id": "AGom6M3GG1j7"
      },
      "execution_count": 35,
      "outputs": []
    },
    {
      "cell_type": "code",
      "source": [
        "# Efetuando a conversão de tipo para float\n",
        "db[\"Val\"] = db[\"Val\"].astype(\"float\")"
      ],
      "metadata": {
        "id": "Ws_y-d_5Kl4L"
      },
      "execution_count": 36,
      "outputs": []
    },
    {
      "cell_type": "code",
      "source": [
        "# Verificando se deu certo (amém, Jesus!Funcionou!)\n",
        "db.dtypes"
      ],
      "metadata": {
        "id": "WLUku-6QK2px"
      },
      "execution_count": null,
      "outputs": []
    },
    {
      "cell_type": "code",
      "source": [
        "# Vou converter também o tempo de serviço público em meses, dessa forma será possível estabelecer alguma correlação entre o valor do benefício e o tempo de carreira no serviço público federal.\n",
        "db[\"Quantidade total de meses no Serviço público\"] = db[\"Quantidade de anos no Serviço público\"] * 12 + db[\"Quantidade de meses no Serviço público\"]"
      ],
      "metadata": {
        "id": "W-d68UltL1by"
      },
      "execution_count": 44,
      "outputs": []
    },
    {
      "cell_type": "code",
      "source": [
        "# Verificando se a operação foi realizada\n",
        "db.head()"
      ],
      "metadata": {
        "id": "KinuQzvSMth4"
      },
      "execution_count": null,
      "outputs": []
    },
    {
      "cell_type": "code",
      "source": [
        "# Ao se avaliar a correlação, verifica-se uma correlação negativa fraca (-0,246964) entre o tempo de serviço público (meses) e o valor pago do abono permanência.\n",
        "db.corr()"
      ],
      "metadata": {
        "id": "ttHD2vJ9NPYw"
      },
      "execution_count": null,
      "outputs": []
    }
  ]
}